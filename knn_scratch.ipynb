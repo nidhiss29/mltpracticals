{
  "nbformat": 4,
  "nbformat_minor": 0,
  "metadata": {
    "colab": {
      "provenance": [],
      "include_colab_link": true
    },
    "kernelspec": {
      "name": "python3",
      "display_name": "Python 3"
    },
    "language_info": {
      "name": "python"
    }
  },
  "cells": [
    {
      "cell_type": "markdown",
      "metadata": {
        "id": "view-in-github",
        "colab_type": "text"
      },
      "source": [
        "<a href=\"https://colab.research.google.com/github/aman3002/ml-practicals/blob/main/knn_scratch.ipynb\" target=\"_parent\"><img src=\"https://colab.research.google.com/assets/colab-badge.svg\" alt=\"Open In Colab\"/></a>"
      ]
    },
    {
      "cell_type": "code",
      "execution_count": null,
      "metadata": {
        "colab": {
          "base_uri": "https://localhost:8080/",
          "height": 363
        },
        "id": "FtUwYZpNseGH",
        "outputId": "0006e7b9-9c9f-4bbc-e71c-fe4b65d0c615"
      },
      "outputs": [
        {
          "output_type": "execute_result",
          "data": {
            "text/plain": [
              "      name age gender    sports\n",
              "0     ajay  32      0  football\n",
              "1     mark  40      0   neither\n",
              "2     sara  16      1   cricket\n",
              "3    zaira  34      1   cricket\n",
              "4   sachin  55      0   neither\n",
              "5    rahul  40      0   cricket\n",
              "6    pooja  20      1   neither\n",
              "7    smith  15      0   cricket\n",
              "8    laxmi  55      1  football\n",
              "9  michael  15      0  football"
            ],
            "text/html": [
              "\n",
              "  <div id=\"df-55533086-d19c-48d4-9471-c61e4e18dcfa\">\n",
              "    <div class=\"colab-df-container\">\n",
              "      <div>\n",
              "<style scoped>\n",
              "    .dataframe tbody tr th:only-of-type {\n",
              "        vertical-align: middle;\n",
              "    }\n",
              "\n",
              "    .dataframe tbody tr th {\n",
              "        vertical-align: top;\n",
              "    }\n",
              "\n",
              "    .dataframe thead th {\n",
              "        text-align: right;\n",
              "    }\n",
              "</style>\n",
              "<table border=\"1\" class=\"dataframe\">\n",
              "  <thead>\n",
              "    <tr style=\"text-align: right;\">\n",
              "      <th></th>\n",
              "      <th>name</th>\n",
              "      <th>age</th>\n",
              "      <th>gender</th>\n",
              "      <th>sports</th>\n",
              "    </tr>\n",
              "  </thead>\n",
              "  <tbody>\n",
              "    <tr>\n",
              "      <th>0</th>\n",
              "      <td>ajay</td>\n",
              "      <td>32</td>\n",
              "      <td>0</td>\n",
              "      <td>football</td>\n",
              "    </tr>\n",
              "    <tr>\n",
              "      <th>1</th>\n",
              "      <td>mark</td>\n",
              "      <td>40</td>\n",
              "      <td>0</td>\n",
              "      <td>neither</td>\n",
              "    </tr>\n",
              "    <tr>\n",
              "      <th>2</th>\n",
              "      <td>sara</td>\n",
              "      <td>16</td>\n",
              "      <td>1</td>\n",
              "      <td>cricket</td>\n",
              "    </tr>\n",
              "    <tr>\n",
              "      <th>3</th>\n",
              "      <td>zaira</td>\n",
              "      <td>34</td>\n",
              "      <td>1</td>\n",
              "      <td>cricket</td>\n",
              "    </tr>\n",
              "    <tr>\n",
              "      <th>4</th>\n",
              "      <td>sachin</td>\n",
              "      <td>55</td>\n",
              "      <td>0</td>\n",
              "      <td>neither</td>\n",
              "    </tr>\n",
              "    <tr>\n",
              "      <th>5</th>\n",
              "      <td>rahul</td>\n",
              "      <td>40</td>\n",
              "      <td>0</td>\n",
              "      <td>cricket</td>\n",
              "    </tr>\n",
              "    <tr>\n",
              "      <th>6</th>\n",
              "      <td>pooja</td>\n",
              "      <td>20</td>\n",
              "      <td>1</td>\n",
              "      <td>neither</td>\n",
              "    </tr>\n",
              "    <tr>\n",
              "      <th>7</th>\n",
              "      <td>smith</td>\n",
              "      <td>15</td>\n",
              "      <td>0</td>\n",
              "      <td>cricket</td>\n",
              "    </tr>\n",
              "    <tr>\n",
              "      <th>8</th>\n",
              "      <td>laxmi</td>\n",
              "      <td>55</td>\n",
              "      <td>1</td>\n",
              "      <td>football</td>\n",
              "    </tr>\n",
              "    <tr>\n",
              "      <th>9</th>\n",
              "      <td>michael</td>\n",
              "      <td>15</td>\n",
              "      <td>0</td>\n",
              "      <td>football</td>\n",
              "    </tr>\n",
              "  </tbody>\n",
              "</table>\n",
              "</div>\n",
              "      <button class=\"colab-df-convert\" onclick=\"convertToInteractive('df-55533086-d19c-48d4-9471-c61e4e18dcfa')\"\n",
              "              title=\"Convert this dataframe to an interactive table.\"\n",
              "              style=\"display:none;\">\n",
              "        \n",
              "  <svg xmlns=\"http://www.w3.org/2000/svg\" height=\"24px\"viewBox=\"0 0 24 24\"\n",
              "       width=\"24px\">\n",
              "    <path d=\"M0 0h24v24H0V0z\" fill=\"none\"/>\n",
              "    <path d=\"M18.56 5.44l.94 2.06.94-2.06 2.06-.94-2.06-.94-.94-2.06-.94 2.06-2.06.94zm-11 1L8.5 8.5l.94-2.06 2.06-.94-2.06-.94L8.5 2.5l-.94 2.06-2.06.94zm10 10l.94 2.06.94-2.06 2.06-.94-2.06-.94-.94-2.06-.94 2.06-2.06.94z\"/><path d=\"M17.41 7.96l-1.37-1.37c-.4-.4-.92-.59-1.43-.59-.52 0-1.04.2-1.43.59L10.3 9.45l-7.72 7.72c-.78.78-.78 2.05 0 2.83L4 21.41c.39.39.9.59 1.41.59.51 0 1.02-.2 1.41-.59l7.78-7.78 2.81-2.81c.8-.78.8-2.07 0-2.86zM5.41 20L4 18.59l7.72-7.72 1.47 1.35L5.41 20z\"/>\n",
              "  </svg>\n",
              "      </button>\n",
              "      \n",
              "  <style>\n",
              "    .colab-df-container {\n",
              "      display:flex;\n",
              "      flex-wrap:wrap;\n",
              "      gap: 12px;\n",
              "    }\n",
              "\n",
              "    .colab-df-convert {\n",
              "      background-color: #E8F0FE;\n",
              "      border: none;\n",
              "      border-radius: 50%;\n",
              "      cursor: pointer;\n",
              "      display: none;\n",
              "      fill: #1967D2;\n",
              "      height: 32px;\n",
              "      padding: 0 0 0 0;\n",
              "      width: 32px;\n",
              "    }\n",
              "\n",
              "    .colab-df-convert:hover {\n",
              "      background-color: #E2EBFA;\n",
              "      box-shadow: 0px 1px 2px rgba(60, 64, 67, 0.3), 0px 1px 3px 1px rgba(60, 64, 67, 0.15);\n",
              "      fill: #174EA6;\n",
              "    }\n",
              "\n",
              "    [theme=dark] .colab-df-convert {\n",
              "      background-color: #3B4455;\n",
              "      fill: #D2E3FC;\n",
              "    }\n",
              "\n",
              "    [theme=dark] .colab-df-convert:hover {\n",
              "      background-color: #434B5C;\n",
              "      box-shadow: 0px 1px 3px 1px rgba(0, 0, 0, 0.15);\n",
              "      filter: drop-shadow(0px 1px 2px rgba(0, 0, 0, 0.3));\n",
              "      fill: #FFFFFF;\n",
              "    }\n",
              "  </style>\n",
              "\n",
              "      <script>\n",
              "        const buttonEl =\n",
              "          document.querySelector('#df-55533086-d19c-48d4-9471-c61e4e18dcfa button.colab-df-convert');\n",
              "        buttonEl.style.display =\n",
              "          google.colab.kernel.accessAllowed ? 'block' : 'none';\n",
              "\n",
              "        async function convertToInteractive(key) {\n",
              "          const element = document.querySelector('#df-55533086-d19c-48d4-9471-c61e4e18dcfa');\n",
              "          const dataTable =\n",
              "            await google.colab.kernel.invokeFunction('convertToInteractive',\n",
              "                                                     [key], {});\n",
              "          if (!dataTable) return;\n",
              "\n",
              "          const docLinkHtml = 'Like what you see? Visit the ' +\n",
              "            '<a target=\"_blank\" href=https://colab.research.google.com/notebooks/data_table.ipynb>data table notebook</a>'\n",
              "            + ' to learn more about interactive tables.';\n",
              "          element.innerHTML = '';\n",
              "          dataTable['output_type'] = 'display_data';\n",
              "          await google.colab.output.renderOutput(dataTable, element);\n",
              "          const docLink = document.createElement('div');\n",
              "          docLink.innerHTML = docLinkHtml;\n",
              "          element.appendChild(docLink);\n",
              "        }\n",
              "      </script>\n",
              "    </div>\n",
              "  </div>\n",
              "  "
            ]
          },
          "metadata": {},
          "execution_count": 1
        }
      ],
      "source": [
        "data=[[\"ajay\",32,0,\"football\"],[\"mark\",40,0,\"neither\"],[\"sara\",16,1,\"cricket\"],[\"zaira\",34,1,\"cricket\"],[\"sachin\",55,0,\"neither\"],[\"rahul\",40,0,\"cricket\"],[\"pooja\",20,1,\"neither\"],[\"smith\",15,0,\"cricket\"],[\"laxmi\",55,1,\"football\"],[\"michael\",15,0,\"football\"]]\n",
        "import numpy as np\n",
        "import pandas as pd\n",
        "data=np.array(data)\n",
        "z=pd.DataFrame(data,columns=[\"name\",\"age\",\"gender\",\"sports\"])\n",
        "z"
      ]
    },
    {
      "cell_type": "code",
      "source": [
        "import math\n",
        "def eucledian(a,b):\n",
        "  w=math.sqrt((a-b)*(a-b))\n",
        "  return w\n",
        "\n",
        "def knn(z,n,a):\n",
        "  d=z.iloc[:,1].values\n",
        "  k=z.iloc[:,-1].values\n",
        "  l=[]\n",
        "  for i in range(len(z)):\n",
        "    l.append(eucledian(int(d[i]),a))\n",
        "  game=[]\n",
        "  for i in range(len(z)):\n",
        "    game.append([l[i],k[i]])\n",
        "  game.sort()\n",
        "  o=[]\n",
        "  for i in range(n):\n",
        "    o.append(game[i][1])\n",
        "  t=[o.count(i) for i in o]\n",
        "  return (o[t.index(max(t))])\n",
        "knn(z,3,5)\n",
        "\n"
      ],
      "metadata": {
        "id": "M7GJ7-aIuCJj",
        "colab": {
          "base_uri": "https://localhost:8080/",
          "height": 35
        },
        "outputId": "828c1695-a69e-44fe-f4a3-2a47b300f600"
      },
      "execution_count": null,
      "outputs": [
        {
          "output_type": "execute_result",
          "data": {
            "text/plain": [
              "'cricket'"
            ],
            "application/vnd.google.colaboratory.intrinsic+json": {
              "type": "string"
            }
          },
          "metadata": {},
          "execution_count": 2
        }
      ]
    },
    {
      "cell_type": "code",
      "source": [],
      "metadata": {
        "id": "jAwMqsvtxC8Z"
      },
      "execution_count": null,
      "outputs": []
    },
    {
      "cell_type": "code",
      "source": [],
      "metadata": {
        "id": "HrHWL8cYxMVr"
      },
      "execution_count": null,
      "outputs": []
    }
  ]
}