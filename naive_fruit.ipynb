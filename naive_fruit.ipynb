{
  "nbformat": 4,
  "nbformat_minor": 0,
  "metadata": {
    "colab": {
      "provenance": [],
      "authorship_tag": "ABX9TyPPFSoxEPqzZtae2R1MNVEC",
      "include_colab_link": true
    },
    "kernelspec": {
      "name": "python3",
      "display_name": "Python 3"
    },
    "language_info": {
      "name": "python"
    }
  },
  "cells": [
    {
      "cell_type": "markdown",
      "metadata": {
        "id": "view-in-github",
        "colab_type": "text"
      },
      "source": [
        "<a href=\"https://colab.research.google.com/github/aman3002/ml-practicals/blob/main/naive_fruit.ipynb\" target=\"_parent\"><img src=\"https://colab.research.google.com/assets/colab-badge.svg\" alt=\"Open In Colab\"/></a>"
      ]
    },
    {
      "cell_type": "code",
      "execution_count": null,
      "metadata": {
        "colab": {
          "base_uri": "https://localhost:8080/"
        },
        "id": "UxRby0B4ejFw",
        "outputId": "b2147ca1-ad38-43bc-8eeb-9a7cf1123ecd"
      },
      "outputs": [
        {
          "output_type": "stream",
          "name": "stdout",
          "text": [
            "     type  long  not long  sweet  not sweet  yellow  not yellow  total\n",
            "0  banana   400       100    350        150     450          50    500\n",
            "1  orange     0       300    150        150     300           0    300\n",
            "2   other   100       100    150         50      50         150    200\n",
            "3   total   500       500    650        350     800         200   1000\n"
          ]
        }
      ],
      "source": [
        "import pandas as pd\n",
        "import numpy as np\n",
        "data=[[\"banana\",400,100,350,150,450,50,500],[\"orange\",0,300,150,150,300,0,300],[\"other\",100,100,150,50,50,150,200],[\"total\",500,500,650,350,800,200,1000]]\n",
        "df=pd.DataFrame(data,columns=[\"type\",\"long\",\"not long\",\"sweet\",\"not sweet\",\"yellow\",\"not yellow\",\"total\"])\n",
        "print(df)"
      ]
    },
    {
      "cell_type": "code",
      "source": [
        "def conditional_probability(df,a,b):\n",
        "  for i in range(len(df)-1):\n",
        "    if(df[\"type\"][i]==a):\n",
        "      p1=df[b][i]/df[b][len(df)-1]\n",
        "  return p1\n",
        "def probability(df,a):\n",
        "  p1=df[a][len(df)-1]/df[\"total\"][len(df)-1]\n",
        "  return p1\n",
        "def prob_fruit(df,a):\n",
        "  for i in range(len(df)-1):\n",
        "    if(df[\"type\"][i]==a):\n",
        "      p1=df[\"total\"][i]/df[\"total\"][len(df)-1]\n",
        "  return p1\n",
        "def naive_bayes(df,a,*arguments):\n",
        "  z,x=1,1\n",
        "  for i in (arguments):\n",
        "    z=z*conditional_probability(df,a,i)\n",
        "    x=x*probability(df,i)\n",
        "  p1=(z*prob_fruit(df,a))/(x)\n",
        "  return p1\n",
        "r=list(df[\"type\"])\n",
        "t=[]\n",
        "for i in (r[:-1]):\n",
        "  t.append(naive_bayes(df,i,\"long\",\"sweet\",\"yellow\"))\n",
        "print(\"probability of fruit is\",max(t))\n",
        "print(\"fruit is\",r[t.index(max(t))])"
      ],
      "metadata": {
        "colab": {
          "base_uri": "https://localhost:8080/"
        },
        "id": "AEnocrTtgNkR",
        "outputId": "be37054e-c834-4359-9a00-31cf6470e292"
      },
      "execution_count": null,
      "outputs": [
        {
          "output_type": "stream",
          "name": "stdout",
          "text": [
            "probability of fruit is 0.4659763313609468\n",
            "fruit is banana\n"
          ]
        }
      ]
    },
    {
      "cell_type": "code",
      "source": [],
      "metadata": {
        "id": "0l5X8pBSFYBS"
      },
      "execution_count": null,
      "outputs": []
    }
  ]
}