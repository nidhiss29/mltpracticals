{
  "nbformat": 4,
  "nbformat_minor": 0,
  "metadata": {
    "colab": {
      "provenance": [],
      "gpuType": "T4",
      "authorship_tag": "ABX9TyOak2828RvopryYgmyY2Pyj",
      "include_colab_link": true
    },
    "kernelspec": {
      "name": "python3",
      "display_name": "Python 3"
    },
    "language_info": {
      "name": "python"
    },
    "accelerator": "TPU",
    "gpuClass": "standard"
  },
  "cells": [
    {
      "cell_type": "markdown",
      "metadata": {
        "id": "view-in-github",
        "colab_type": "text"
      },
      "source": [
        "<a href=\"https://colab.research.google.com/github/aman3002/ml-practicals/blob/main/Untitled8.ipynb\" target=\"_parent\"><img src=\"https://colab.research.google.com/assets/colab-badge.svg\" alt=\"Open In Colab\"/></a>"
      ]
    },
    {
      "cell_type": "code",
      "execution_count": null,
      "metadata": {
        "colab": {
          "base_uri": "https://localhost:8080/"
        },
        "id": "uoJjRBuUbCzS",
        "outputId": "1e2b3d42-311f-42af-fc80-59bb8642388c"
      },
      "outputs": [
        {
          "output_type": "execute_result",
          "data": {
            "text/plain": [
              "0.04807692307692308"
            ]
          },
          "metadata": {},
          "execution_count": 1
        }
      ],
      "source": [
        "#a be detected\n",
        "#b is real\n",
        "p_a=0.5\n",
        "p_a_b=0.99\n",
        "p_a_nb=0.05\n",
        "p_nb_a=(p_a_nb*p_a)/((p_a_b * p_a)+(p_a_nb * p_a))\n",
        "p_nb_a"
      ]
    },
    {
      "cell_type": "code",
      "source": [
        "#a be the detected and b is the real\n",
        "p_b=0.01\n",
        "p_a_b=0.9\n",
        "p_a_nb=0.08\n",
        "p_b_a=(p_a_b*(p_b))/((p_a_b*p_b)+(p_a_nb*(1-p_b)))\n",
        "p_b_a"
      ],
      "metadata": {
        "colab": {
          "base_uri": "https://localhost:8080/"
        },
        "id": "h3qd4Gqoc6wy",
        "outputId": "b0660cbd-b92e-4653-b1cb-be0ab4c83bed"
      },
      "execution_count": null,
      "outputs": [
        {
          "output_type": "execute_result",
          "data": {
            "text/plain": [
              "0.10204081632653063"
            ]
          },
          "metadata": {},
          "execution_count": 2
        }
      ]
    },
    {
      "cell_type": "code",
      "source": [],
      "metadata": {
        "id": "6ELBGK73fHRZ"
      },
      "execution_count": null,
      "outputs": []
    }
  ]
}
