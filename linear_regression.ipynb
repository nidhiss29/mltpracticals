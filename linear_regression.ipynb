{
  "nbformat": 4,
  "nbformat_minor": 0,
  "metadata": {
    "colab": {
      "provenance": [],
      "authorship_tag": "ABX9TyPOq/Ekqfq3dcfXkCDFrO/f",
      "include_colab_link": true
    },
    "kernelspec": {
      "name": "python3",
      "display_name": "Python 3"
    },
    "language_info": {
      "name": "python"
    }
  },
  "cells": [
    {
      "cell_type": "markdown",
      "metadata": {
        "id": "view-in-github",
        "colab_type": "text"
      },
      "source": [
        "<a href=\"https://colab.research.google.com/github/aman3002/ml-practicals/blob/main/linear_regression.ipynb\" target=\"_parent\"><img src=\"https://colab.research.google.com/assets/colab-badge.svg\" alt=\"Open In Colab\"/></a>"
      ]
    },
    {
      "cell_type": "code",
      "execution_count": 1,
      "metadata": {
        "colab": {
          "base_uri": "https://localhost:8080/"
        },
        "id": "CxIR6GU-VC4f",
        "outputId": "ad1ffb1b-2642-44d8-d050-092af97f3082"
      },
      "outputs": [
        {
          "output_type": "stream",
          "name": "stdout",
          "text": [
            "mean x 3.033333333333333\n",
            "mean my 226.22222222222223\n",
            "equation is y= 92.80266825965754 + 43.98446833930704 x\n",
            "enter value of x4.0\n",
            "predicted value is 268.7405416168857\n"
          ]
        }
      ],
      "source": [
        "sx=0\n",
        "sy=0\n",
        "x=[2,2.4,1.5,3.5,3.5,3.5,3.5,3.7,3.7]\n",
        "y=[196,221,136,255,244,230,232,255,267]\n",
        "sx,sy=0,0\n",
        "for i in range(len(x)):\n",
        "    sx+=x[i]\n",
        "    sy+=y[i]\n",
        "mx=sx/len(x)\n",
        "my=sy/len(y)\n",
        "print(\"mean x\",mx)\n",
        "print(\"mean my\",my)\n",
        "z=0\n",
        "a=0\n",
        "for i in range(len(x)):\n",
        "    z=z+((x[i]-mx)*(y[i]-my))\n",
        "    a=a+((x[i]-mx)**2)\n",
        "t1=z/a\n",
        "t2=my-(t1*mx)\n",
        "print(\"equation is y=\",t2,\"+\",t1,\"x\")\n",
        "u=float(input(\"enter value of x\"))\n",
        "q=t2+t1*(u)\n",
        "print(\"predicted value is\",q)"
      ]
    },
    {
      "cell_type": "code",
      "source": [],
      "metadata": {
        "id": "9Sg29zqzVjvL"
      },
      "execution_count": null,
      "outputs": []
    }
  ]
}