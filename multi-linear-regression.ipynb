{
  "nbformat": 4,
  "nbformat_minor": 0,
  "metadata": {
    "colab": {
      "provenance": [],
      "authorship_tag": "ABX9TyOXatQ/R6hF7ojQdg6OpqmF",
      "include_colab_link": true
    },
    "kernelspec": {
      "name": "python3",
      "display_name": "Python 3"
    },
    "language_info": {
      "name": "python"
    }
  },
  "cells": [
    {
      "cell_type": "markdown",
      "metadata": {
        "id": "view-in-github",
        "colab_type": "text"
      },
      "source": [
        "<a href=\"https://colab.research.google.com/github/aman3002/ml-practicals/blob/main/multi-linear-regression.ipynb\" target=\"_parent\"><img src=\"https://colab.research.google.com/assets/colab-badge.svg\" alt=\"Open In Colab\"/></a>"
      ]
    },
    {
      "cell_type": "code",
      "execution_count": null,
      "metadata": {
        "id": "GPF74V0fmC3c"
      },
      "outputs": [],
      "source": []
    },
    {
      "cell_type": "code",
      "source": [
        "x1=[8.5,9.6,5.9,11.1,10.6,10.0,10.1,11.1,11.6]\n",
        "x2=[2,2.4,1.5,3.5,3.5,3.5,3.5,3.7,3.7]\n",
        "y=[196,221,136,255,244,230,232,255,267]\n",
        "sx1,sx2,sy=0,0,0 \n",
        "for i in range(len(x1)):\n",
        "    sx1+=x1[i]\n",
        "    sx2+=x2[i]\n",
        "    sy+=y[i]\n",
        "mx1=sx1/len(x1)\n",
        "mx2=sx2/len(x2)\n",
        "my=sy/len(y)\n",
        "print(sx1,mx1)\n",
        "d,a,b,c=0,0,0,0\n",
        "for i in range(len(x1)):\n",
        "    a=a+((x1[i]-mx1)*(y[i]-my))\n",
        "    b=b+((x2[i]-mx2)*(y[i]-my))\n",
        "    c=c+((x1[i]-mx1)**2)\n",
        "    d=d+((x2[i]-mx2)**2)\n",
        "t1=a/c\n",
        "t2=b/d\n",
        "t3=my-t1*mx1-t2*mx2\n",
        "print(t1)\n",
        "print(t2)\n",
        "print(t3)\n",
        "q=float(input(\"enter x1\"))\n",
        "w=float(input(\"enter x2\"))\n",
        "z=t3+t1*q+t2*w\n",
        "print(z)\n",
        "    \n"
      ],
      "metadata": {
        "colab": {
          "base_uri": "https://localhost:8080/"
        },
        "id": "rNGIPKZZmFSM",
        "outputId": "a2dd0fc9-08cf-4148-a7cf-89365dd2c0dd"
      },
      "execution_count": null,
      "outputs": [
        {
          "output_type": "stream",
          "name": "stdout",
          "text": [
            "88.49999999999999 9.833333333333332\n",
            "22.90844298245614\n",
            "43.98446833930704\n",
            "-132.46368773449447\n",
            "enter x18.5\n",
            "enter x21.8\n",
            "141.4301206271354\n"
          ]
        }
      ]
    },
    {
      "cell_type": "code",
      "source": [
        "sx=0\n",
        "sy=0\n",
        "x=[2,2.4,1.5,3.5,3.5,3.5,3.5,3.7,3.7]\n",
        "y=[196,221,136,255,244,230,232,255,267]\n",
        "sx,sy=0,0\n",
        "for i in range(len(x)):\n",
        "    sx+=x[i]\n",
        "    sy+=y[i]\n",
        "mx=sx/len(x)\n",
        "my=sy/len(y)\n",
        "print(\"mean x\",mx)\n",
        "print(\"mean my\",my)\n",
        "z=0\n",
        "a=0\n",
        "for i in range(len(x)):\n",
        "    z=z+((x[i]-mx)*(y[i]-my))\n",
        "    a=a+((x[i]-mx)**2)\n",
        "t1=z/a\n",
        "t2=my-(t1*mx)\n",
        "print(\"equation is y=\",t2,\"+\",t1,\"x\")\n",
        "u=float(input(\"enter value of x\"))\n",
        "q=t2+t1*(u)\n",
        "print(\"predicted value is\",q)\n",
        "\n"
      ],
      "metadata": {
        "colab": {
          "base_uri": "https://localhost:8080/"
        },
        "id": "7jX52aEjmSXy",
        "outputId": "bcb82b06-edca-4bb3-f784-ddbd30d8ef79"
      },
      "execution_count": null,
      "outputs": [
        {
          "output_type": "stream",
          "name": "stdout",
          "text": [
            "mean x 3.033333333333333\n",
            "mean my 226.22222222222223\n",
            "equation is y= 92.80266825965754 + 43.98446833930704 x\n",
            "enter value of x4.0\n",
            "predicted value is 268.7405416168857\n"
          ]
        }
      ]
    },
    {
      "cell_type": "code",
      "source": [],
      "metadata": {
        "id": "zwQvPythmjcC"
      },
      "execution_count": null,
      "outputs": []
    }
  ]
}