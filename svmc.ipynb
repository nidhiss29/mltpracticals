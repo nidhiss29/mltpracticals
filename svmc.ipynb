{
  "nbformat": 4,
  "nbformat_minor": 0,
  "metadata": {
    "colab": {
      "provenance": [],
      "authorship_tag": "ABX9TyPFsjQKEd3MEDgayOw51KdD",
      "include_colab_link": true
    },
    "kernelspec": {
      "name": "python3",
      "display_name": "Python 3"
    },
    "language_info": {
      "name": "python"
    }
  },
  "cells": [
    {
      "cell_type": "markdown",
      "metadata": {
        "id": "view-in-github",
        "colab_type": "text"
      },
      "source": [
        "<a href=\"https://colab.research.google.com/github/aman3002/ml-practicals/blob/main/svm.ipynb\" target=\"_parent\"><img src=\"https://colab.research.google.com/assets/colab-badge.svg\" alt=\"Open In Colab\"/></a>"
      ]
    },
    {
      "cell_type": "code",
      "source": [
        "import pandas as pd\n",
        "import numpy as np\n",
        "import math\n",
        "import matplotlib.pyplot as plt\n",
        "import sympy as sy\n",
        "data=[[3,1,-1],[3,-1,1],[6,1,1],[6,-1,1],[1,0,-1],[0,1,-1],[0,-1,-1],[-1,0,-1]]"
      ],
      "metadata": {
        "id": "h4a6cfnsZ2pa"
      },
      "execution_count": 36,
      "outputs": []
    },
    {
      "cell_type": "code",
      "execution_count": 73,
      "metadata": {
        "colab": {
          "base_uri": "https://localhost:8080/",
          "height": 430
        },
        "id": "kK-xBC4qZxjn",
        "outputId": "a3fbe96e-4df4-4581-e674-2774316ed159"
      },
      "outputs": [
        {
          "output_type": "display_data",
          "data": {
            "text/plain": [
              "<Figure size 640x480 with 1 Axes>"
            ],
            "image/png": "[encoded data removed]"
          },
          "metadata": {}
        }
      ],
      "source": [
        "\n",
        "posetive,negative=[],[]\n",
        "for i in data:\n",
        "  if(i[2]==1):\n",
        "    posetive.append(i[:2])\n",
        "  else:\n",
        "    negative.append(i[:2])\n",
        "#eucledian solver\n",
        "def eucledian(a,b):\n",
        "  z=math.sqrt((a[0]-b[0])**2+(a[1]-b[1])**2)\n",
        "  return z\n",
        "support=[[1,0,1],[3,1,1],[3,-1,1]]\n",
        "#equation solver\n",
        "def eqution(support,posetive,negative):\n",
        "  s=[]\n",
        "  for i in range(len(support)):\n",
        "    for j in range(len(support)):\n",
        "      s.append(np.dot(support[i],support[j]))\n",
        "  z=[]\n",
        "  for i in range(0,len(s),3):\n",
        "    z.append(s[i:i+3])\n",
        "  a=[-1,1,1]\n",
        "  z=np.array(z)\n",
        "  a=np.array(a)\n",
        "  x=np.linalg.solve(z,a)\n",
        "  d=x[0]*np.array(support[0])+x[1]*np.array(support[1])+x[2]*np.array(support[2])\n",
        "  w1=d[:-1]\n",
        "  b=d[-1]\n",
        "  #equation of hyperplane\n",
        "  x1=-b/w1[0]\n",
        "  t=[]\n",
        "  for i in posetive:\n",
        "    t.append(eucledian([x1,w1[0]],i[:2]))\n",
        "  p=[]\n",
        "  for i in negative:\n",
        "    p.append(eucledian([x1,w1[0]],i[:2]))\n",
        "  f=t.index(min(t))\n",
        "  g=p.index(min(p))\n",
        "  f=posetive[f][:2]\n",
        "  g=negative[g][0:2]  \n",
        "  return f,g,[x1,w1[1]],[w1[0],w1[1],b]\n",
        "\n",
        "#classification function\n",
        "\n",
        "def classify(point,support,posetive,negative):\n",
        "  a,b,c,d=eqution(support,posetive,negative)\n",
        "  z=float(d[0]*point[0])+float(d[1]*point[1])+float(d[2])\n",
        "  if(z>0):\n",
        "    posetive.append(point)\n",
        "  elif(z<0):\n",
        "    negative.append(point)\n",
        "  return posetive,negative\n",
        "\n",
        "# main function\n",
        "a,b,c,d=eqution(support,posetive,negative)\n",
        "\n",
        "\n",
        "#equation maker\n",
        "\n",
        "m=np.linspace(-5,5,10)\n",
        "y=a[1]-a[0]+m\n",
        "j=b[1]-b[0]+m\n",
        "k=c[1]-c[0]+m\n",
        "\n",
        "#classifying a point\n",
        "posetive,negative=classify([-4,2],support,posetive,negative)\n",
        "for i in posetive:\n",
        "  plt.scatter(i[0],i[1],color=\"blue\")\n",
        "for i in negative:\n",
        "  plt.scatter(i[0],i[1],color=\"yellow\")\n",
        "\n",
        "#plotting a graph\n",
        "\n",
        "\n",
        "plt.plot(m,j,color=\"red\")\n",
        "plt.plot(m,y,color=\"red\")\n",
        "plt.plot(m,k,color=\"red\")\n",
        "plt.show()\n",
        "\n"
      ]
    },
    {
      "cell_type": "code",
      "source": [],
      "metadata": {
        "id": "p_6CSmK1cpZi"
      },
      "execution_count": null,
      "outputs": []
    }
  ]
}
